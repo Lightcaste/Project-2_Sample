{
 "cells": [
  {
   "cell_type": "code",
   "execution_count": 3,
   "metadata": {},
   "outputs": [
    {
     "name": "stdout",
     "output_type": "stream",
     "text": [
      "[0 1 2 3 4 5 6 7 8 9]\n",
      "[1. 1. 1.]\n",
      "[1.+0.j 1.+2.j 1.+0.j]\n"
     ]
    }
   ],
   "source": [
    "import numpy as np\n",
    "\n",
    "\n",
    "a = np.array([1+2j, 1, 1])\n",
    "h= np.real(a)\n",
    "k = np.roll(a,1) # dich phai 1 don vi\n",
    "\n",
    "b= np.arange(10)\n",
    "print(b)\n",
    "print(h)\n",
    "print(k)\n"
   ]
  }
 ],
 "metadata": {
  "kernelspec": {
   "display_name": "python310",
   "language": "python",
   "name": "python3"
  },
  "language_info": {
   "codemirror_mode": {
    "name": "ipython",
    "version": 3
   },
   "file_extension": ".py",
   "mimetype": "text/x-python",
   "name": "python",
   "nbconvert_exporter": "python",
   "pygments_lexer": "ipython3",
   "version": "3.10.6"
  },
  "orig_nbformat": 4,
  "vscode": {
   "interpreter": {
    "hash": "eb88f187bd7847f0aae6df800a6a9f5f160368614c42e9af5f760f7bcff31220"
   }
  }
 },
 "nbformat": 4,
 "nbformat_minor": 2
}
